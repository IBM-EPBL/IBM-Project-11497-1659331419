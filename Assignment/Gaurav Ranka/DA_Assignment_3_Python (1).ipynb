{
  "metadata": {
    "colab": {
      "provenance": []
    },
    "kernelspec": {
      "name": "python",
      "display_name": "Python (Pyodide)",
      "language": "python"
    },
    "language_info": {
      "codemirror_mode": {
        "name": "python",
        "version": 3
      },
      "file_extension": ".py",
      "mimetype": "text/x-python",
      "name": "python",
      "nbconvert_exporter": "python",
      "pygments_lexer": "ipython3",
      "version": "3.8"
    }
  },
  "nbformat_minor": 4,
  "nbformat": 4,
  "cells": [
    {
      "cell_type": "code",
      "source": "## Exercises\n\nAnswer the questions or complete the tasks outlined in bold below, use the specific method described if applicable.",
      "metadata": {
        "id": "fwU2iooz85jt"
      },
      "execution_count": null,
      "outputs": []
    },
    {
      "cell_type": "markdown",
      "source": "** What is 7 to the power of 4?**",
      "metadata": {
        "id": "SzBQQ_ml85j1"
      }
    },
    {
      "cell_type": "code",
      "source": "print(7**4)",
      "metadata": {
        "id": "UhvE4PBC85j3",
        "outputId": "a05565aa-db43-4716-e87d-41c5c8a6f95e",
        "trusted": true
      },
      "execution_count": 2,
      "outputs": [
        {
          "name": "stdout",
          "text": "2401\n",
          "output_type": "stream"
        }
      ]
    },
    {
      "cell_type": "markdown",
      "source": "** Split this string:**\n\n    s = \"Hi there Sam!\"\n    \n**into a list. **",
      "metadata": {
        "id": "ds8G9S8j85j6"
      }
    },
    {
      "cell_type": "code",
      "source": "s = \"Hi there Sam!\"\nprint(list(s.split()))",
      "metadata": {
        "id": "RRGOKoai85j8",
        "outputId": "cc52f0d8-2ed1-4b4d-e956-5bbeb332cdc2",
        "trusted": true
      },
      "execution_count": 13,
      "outputs": [
        {
          "name": "stdout",
          "text": "['Hi', 'there', 'Sam!']\n",
          "output_type": "stream"
        }
      ]
    },
    {
      "cell_type": "markdown",
      "source": "** Given the variables:**\n\n    planet = \"Earth\"\n    diameter = 12742\n\n** Use .format() to print the following string: **\n\n    The diameter of Earth is 12742 kilometers.",
      "metadata": {
        "id": "_bBNOu-785j9"
      }
    },
    {
      "cell_type": "code",
      "source": "planet = \"Earth\"\ndiameter = 12742\nprint(\"The diameter of {} is {} kilometers.\".format(planet, diameter))",
      "metadata": {
        "id": "s_dQ7_xc85j_",
        "outputId": "4235fdfb-5591-4dd9-f9d2-77f311977633",
        "trusted": true
      },
      "execution_count": 14,
      "outputs": [
        {
          "name": "stdout",
          "text": "The diameter of Earth is 12742 kilometers.\n",
          "output_type": "stream"
        }
      ]
    },
    {
      "cell_type": "markdown",
      "source": "** Given this nested list, use indexing to grab the word \"hello\" **",
      "metadata": {
        "id": "QAKtN7Hh85kB"
      }
    },
    {
      "cell_type": "code",
      "source": "lst = [1,2,[3,4],[5,[100,200,['hello']],23,11],1,7]\nprint(lst[3][1][2][0])",
      "metadata": {
        "id": "-7dzQDyK85kD",
        "tags": [],
        "trusted": true
      },
      "execution_count": 8,
      "outputs": [
        {
          "name": "stdout",
          "text": "hello\n",
          "output_type": "stream"
        }
      ]
    },
    {
      "cell_type": "markdown",
      "source": "** Given this nest dictionary grab the word \"hello\". Be prepared, this will be annoying/tricky **",
      "metadata": {
        "id": "9Ma7M4a185kF"
      }
    },
    {
      "cell_type": "code",
      "source": "d = {'k1':[1,2,3,{'tricky':['oh','man','inception',{'target':[1,2,3,'hello']}]}]}",
      "metadata": {
        "id": "vrYAxSYN85kG",
        "trusted": true
      },
      "execution_count": 9,
      "outputs": [
        {
          "name": "stdout",
          "text": "hello\n",
          "output_type": "stream"
        }
      ]
    },
    {
      "cell_type": "code",
      "source": "d = {'k1':[1,2,3,{'tricky':['oh','man','inception',{'target':[1,2,3,'hello']}]}]}\nprint(d['k1'][3]['tricky'][3]['target'][3])\n",
      "metadata": {
        "id": "FlILSdm485kH",
        "outputId": "4232540d-95c2-461d-c78d-24ea62398e08",
        "trusted": true
      },
      "execution_count": 15,
      "outputs": [
        {
          "name": "stdout",
          "text": "hello\n",
          "output_type": "stream"
        }
      ]
    },
    {
      "cell_type": "markdown",
      "source": "** What is the main difference between a tuple and a list? **",
      "metadata": {
        "id": "FInV_FKB85kI"
      }
    },
    {
      "cell_type": "code",
      "source": "One of the most important differences between a list and a tuple is that list is mutable, whereas a tuple is immutable",
      "metadata": {
        "id": "_VBWf00q85kJ",
        "tags": []
      },
      "execution_count": null,
      "outputs": []
    },
    {
      "cell_type": "markdown",
      "source": "** Create a function that grabs the email website domain from a string in the form: **\n\n    user@domain.com\n    \n**So for example, passing \"user@domain.com\" would return: domain.com**",
      "metadata": {
        "id": "zP-j0HZj85kK"
      }
    },
    {
      "cell_type": "code",
      "source": "def grab(s):\n    a = s.index('@')\n    return s[a+1:]\ndef main():\n    s = 'user@domain.com'\n    print(grab(s))\nif __name__=='__main__':\n    main()",
      "metadata": {
        "id": "Gb9dspLC85kL",
        "outputId": "4216116b-da08-45a2-9545-d6b13bcefaeb",
        "trusted": true
      },
      "execution_count": 16,
      "outputs": [
        {
          "name": "stdout",
          "text": "domain.com\n",
          "output_type": "stream"
        }
      ]
    },
    {
      "cell_type": "markdown",
      "source": "** Create a basic function that returns True if the word 'dog' is contained in the input string. Don't worry about edge cases like a punctuation being attached to the word dog, but do account for capitalization. **",
      "metadata": {
        "id": "gYydb-y085kM"
      }
    },
    {
      "cell_type": "code",
      "source": "def contains(s):\n    if 'dog' in s:\n        return True\ndef main():\n    s = 'sadfdoga'\n    print(contains(s))\nif __name__=='__main__':\n    main()",
      "metadata": {
        "id": "EqH6b7yv85kN",
        "outputId": "e7909af1-8df1-4534-fc8c-27b03d7369e5",
        "trusted": true
      },
      "execution_count": 17,
      "outputs": [
        {
          "name": "stdout",
          "text": "True\n",
          "output_type": "stream"
        }
      ]
    },
    {
      "cell_type": "markdown",
      "source": "** Create a function that counts the number of times the word \"dog\" occurs in a string. Again ignore edge cases. **",
      "metadata": {
        "id": "AyHQFALC85kO"
      }
    },
    {
      "cell_type": "code",
      "source": "def contains(s):\n    if 'dog' in s:\n        return True\ndef main():\n    s = 'sadfdoga'\n    print(contains(s))\nif __name__=='__main__':\n    main()",
      "metadata": {
        "id": "igzsvHb385kO",
        "outputId": "0602a2b5-0b18-48d8-e2d4-fe644cbccf8a",
        "trusted": true
      },
      "execution_count": 18,
      "outputs": [
        {
          "name": "stdout",
          "text": "True\n",
          "output_type": "stream"
        }
      ]
    },
    {
      "cell_type": "markdown",
      "source": "### Problem\n**You are driving a little too fast, and a police officer stops you. Write a function\n  to return one of 3 possible results: \"No ticket\", \"Small ticket\", or \"Big Ticket\". \n  If your speed is 60 or less, the result is \"No Ticket\". If speed is between 61 \n  and 80 inclusive, the result is \"Small Ticket\". If speed is 81 or more, the result is \"Big    Ticket\". Unless it is your birthday (encoded as a boolean value in the parameters of the function) -- on your birthday, your speed can be 5 higher in all \n  cases. **",
      "metadata": {
        "id": "3n7jJt4k85kP"
      }
    },
    {
      "cell_type": "code",
      "source": "def caught_speeding(speed, is_birthday):\n    \n    if is_birthday:\n        speeding = speed - 5\n    else:\n        speeding = speed\n    \n    if speeding > 80:\n        return 'Big Ticket'\n    elif speeding > 60:\n        return 'Small Ticket'\n    else:\n        return 'No Ticket'\n    ",
      "metadata": {
        "collapsed": true,
        "id": "nvXMkvWk85kQ",
        "jupyter": {
          "outputs_hidden": true
        }
      },
      "execution_count": null,
      "outputs": []
    },
    {
      "cell_type": "code",
      "source": "def caught_speeding(speed, is_birthday):\n    \n    if is_birthday:\n        speeding = speed - 5\n    else:\n        speeding = speed\n    \n    if speeding > 80:\n        return 'Big Ticket'\n    elif speeding > 60:\n        return 'Small Ticket'\n    else:\n        return 'No Ticket'\ndef main():\n    print(caught_speeding(85,0))\nif __name__=='__main__':\n          main()",
      "metadata": {
        "id": "BU_UZcyk85kS",
        "outputId": "699de8ef-a18c-436b-fdd9-60dc44979906",
        "trusted": true
      },
      "execution_count": 6,
      "outputs": [
        {
          "name": "stdout",
          "text": "Big Ticket\n",
          "output_type": "stream"
        }
      ]
    },
    {
      "cell_type": "code",
      "source": "def caught_speeding(speed, is_birthday):\n    \n    if is_birthday:\n        speeding = speed - 5\n    else:\n        speeding = speed\n    \n    if speeding > 80:\n        return 'Big Ticket'\n    elif speeding > 60:\n        return 'Small Ticket'\n    else:\n        return 'No Ticket'\ndef main():\n    print(caught_speeding(65,0))\nif __name__=='__main__':\n          main()",
      "metadata": {
        "id": "p1AGJ7DM85kR",
        "outputId": "ca80629f-5949-4926-8d27-1b61576669ac",
        "trusted": true
      },
      "execution_count": 7,
      "outputs": [
        {
          "name": "stdout",
          "text": "Small Ticket\n",
          "output_type": "stream"
        }
      ]
    },
    {
      "cell_type": "markdown",
      "source": "Create an employee list with basic salary values(at least 5 values for 5 employees)  and using a for loop retreive each employee salary and calculate total salary expenditure. ",
      "metadata": {
        "id": "Tie4rC7_kAOC"
      }
    },
    {
      "cell_type": "code",
      "source": "e_list = [10000,20000,30000,40000,50000]\ntotal = 0\nfor i in e_list:\n    total += i\nprint(total)",
      "metadata": {
        "id": "R5-CdXSKjacN",
        "trusted": true
      },
      "execution_count": 8,
      "outputs": [
        {
          "name": "stdout",
          "text": "150000\n",
          "output_type": "stream"
        }
      ]
    },
    {
      "cell_type": "markdown",
      "source": "Create two dictionaries in Python:\n\nFirst one to contain fields as Empid,  Empname,  Basicpay\n\nSecond dictionary to contain fields as DeptName,  DeptId.\n\nCombine both dictionaries. ",
      "metadata": {
        "id": "-L1aiFqRkF5s"
      }
    },
    {
      "cell_type": "code",
      "source": "dict1 = {'Empid':1,'Empname':'xyz','Basicpay':50000}\ndict2 = {'DeptName':'CSE','DeptId':403}\ndict2.update(dict1)\nprint(dict2)",
      "metadata": {
        "id": "8ugVoEe0kOsk",
        "trusted": true
      },
      "execution_count": 15,
      "outputs": [
        {
          "name": "stdout",
          "text": "{'DeptName': 'CSE', 'DeptId': 403, 'Empid': 1, 'Empname': 'xyz', 'Basicpay': 50000}\n",
          "output_type": "stream"
        }
      ]
    },
    {
      "cell_type": "code",
      "source": "",
      "metadata": {},
      "execution_count": null,
      "outputs": []
    }
  ]
}